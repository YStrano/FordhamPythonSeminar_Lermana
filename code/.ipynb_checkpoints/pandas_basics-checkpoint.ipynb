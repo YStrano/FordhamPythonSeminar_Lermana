{
 "cells": [
  {
   "cell_type": "code",
   "execution_count": 1,
   "metadata": {},
   "outputs": [],
   "source": [
    "import pandas"
   ]
  },
  {
   "cell_type": "markdown",
   "metadata": {},
   "source": [
    "# Working with one stock's data"
   ]
  },
  {
   "cell_type": "markdown",
   "metadata": {},
   "source": [
    "#### Notes:\n",
    "\n",
    "The **pandas** *read_csv* function will read a csv file into a DataFrame. If the csv file has a header row, there is no need to pass a value for the *header* argument. In this case, the file has no header row, so we need to tell the function not to take the first row of values as column headers. "
   ]
  },
  {
   "cell_type": "code",
   "execution_count": 2,
   "metadata": {},
   "outputs": [],
   "source": [
    "aapl = pandas.read_csv('../stock_csvs/table_aapl.csv', header=None)"
   ]
  },
  {
   "cell_type": "markdown",
   "metadata": {},
   "source": [
    "#### Notes:\n",
    "    \n",
    "The *head* method shows us by default the first five rows of the DataFrame across all columns. Passing an integer to *head* will show that number of rows."
   ]
  },
  {
   "cell_type": "code",
   "execution_count": 3,
   "metadata": {},
   "outputs": [
    {
     "data": {
      "text/html": [
       "<div>\n",
       "<style scoped>\n",
       "    .dataframe tbody tr th:only-of-type {\n",
       "        vertical-align: middle;\n",
       "    }\n",
       "\n",
       "    .dataframe tbody tr th {\n",
       "        vertical-align: top;\n",
       "    }\n",
       "\n",
       "    .dataframe thead th {\n",
       "        text-align: right;\n",
       "    }\n",
       "</style>\n",
       "<table border=\"1\" class=\"dataframe\">\n",
       "  <thead>\n",
       "    <tr style=\"text-align: right;\">\n",
       "      <th></th>\n",
       "      <th>0</th>\n",
       "      <th>1</th>\n",
       "      <th>2</th>\n",
       "      <th>3</th>\n",
       "      <th>4</th>\n",
       "      <th>5</th>\n",
       "      <th>6</th>\n",
       "    </tr>\n",
       "  </thead>\n",
       "  <tbody>\n",
       "    <tr>\n",
       "      <th>0</th>\n",
       "      <td>19980102</td>\n",
       "      <td>0</td>\n",
       "      <td>3.31397</td>\n",
       "      <td>3.95098</td>\n",
       "      <td>3.28236</td>\n",
       "      <td>3.95098</td>\n",
       "      <td>24947201.10</td>\n",
       "    </tr>\n",
       "    <tr>\n",
       "      <th>1</th>\n",
       "      <td>19980105</td>\n",
       "      <td>0</td>\n",
       "      <td>4.01177</td>\n",
       "      <td>4.02635</td>\n",
       "      <td>3.69325</td>\n",
       "      <td>3.89020</td>\n",
       "      <td>22344145.08</td>\n",
       "    </tr>\n",
       "    <tr>\n",
       "      <th>2</th>\n",
       "      <td>19980106</td>\n",
       "      <td>0</td>\n",
       "      <td>3.87561</td>\n",
       "      <td>4.98432</td>\n",
       "      <td>3.58628</td>\n",
       "      <td>4.60502</td>\n",
       "      <td>63150252.55</td>\n",
       "    </tr>\n",
       "    <tr>\n",
       "      <th>3</th>\n",
       "      <td>19980107</td>\n",
       "      <td>0</td>\n",
       "      <td>4.57341</td>\n",
       "      <td>4.68040</td>\n",
       "      <td>4.20871</td>\n",
       "      <td>4.24032</td>\n",
       "      <td>36978255.52</td>\n",
       "    </tr>\n",
       "    <tr>\n",
       "      <th>4</th>\n",
       "      <td>19980108</td>\n",
       "      <td>0</td>\n",
       "      <td>4.24032</td>\n",
       "      <td>4.52965</td>\n",
       "      <td>4.11875</td>\n",
       "      <td>4.39107</td>\n",
       "      <td>27687622.95</td>\n",
       "    </tr>\n",
       "  </tbody>\n",
       "</table>\n",
       "</div>"
      ],
      "text/plain": [
       "          0  1        2        3        4        5            6\n",
       "0  19980102  0  3.31397  3.95098  3.28236  3.95098  24947201.10\n",
       "1  19980105  0  4.01177  4.02635  3.69325  3.89020  22344145.08\n",
       "2  19980106  0  3.87561  4.98432  3.58628  4.60502  63150252.55\n",
       "3  19980107  0  4.57341  4.68040  4.20871  4.24032  36978255.52\n",
       "4  19980108  0  4.24032  4.52965  4.11875  4.39107  27687622.95"
      ]
     },
     "execution_count": 3,
     "metadata": {},
     "output_type": "execute_result"
    }
   ],
   "source": [
    "aapl.head()"
   ]
  },
  {
   "cell_type": "markdown",
   "metadata": {},
   "source": [
    "#### Notes:\n",
    "\n",
    "We can set column names by passing a list of names to the *columns* attribute. The number of names here must be equal to the number of columns in the DataFrame."
   ]
  },
  {
   "cell_type": "code",
   "execution_count": 4,
   "metadata": {},
   "outputs": [],
   "source": [
    "aapl.columns = ['date', 'time', 'open', 'high', 'low', 'close', 'volume']"
   ]
  },
  {
   "cell_type": "code",
   "execution_count": 5,
   "metadata": {},
   "outputs": [
    {
     "data": {
      "text/html": [
       "<div>\n",
       "<style scoped>\n",
       "    .dataframe tbody tr th:only-of-type {\n",
       "        vertical-align: middle;\n",
       "    }\n",
       "\n",
       "    .dataframe tbody tr th {\n",
       "        vertical-align: top;\n",
       "    }\n",
       "\n",
       "    .dataframe thead th {\n",
       "        text-align: right;\n",
       "    }\n",
       "</style>\n",
       "<table border=\"1\" class=\"dataframe\">\n",
       "  <thead>\n",
       "    <tr style=\"text-align: right;\">\n",
       "      <th></th>\n",
       "      <th>date</th>\n",
       "      <th>time</th>\n",
       "      <th>open</th>\n",
       "      <th>high</th>\n",
       "      <th>low</th>\n",
       "      <th>close</th>\n",
       "      <th>volume</th>\n",
       "    </tr>\n",
       "  </thead>\n",
       "  <tbody>\n",
       "    <tr>\n",
       "      <th>0</th>\n",
       "      <td>19980102</td>\n",
       "      <td>0</td>\n",
       "      <td>3.31397</td>\n",
       "      <td>3.95098</td>\n",
       "      <td>3.28236</td>\n",
       "      <td>3.95098</td>\n",
       "      <td>24947201.10</td>\n",
       "    </tr>\n",
       "    <tr>\n",
       "      <th>1</th>\n",
       "      <td>19980105</td>\n",
       "      <td>0</td>\n",
       "      <td>4.01177</td>\n",
       "      <td>4.02635</td>\n",
       "      <td>3.69325</td>\n",
       "      <td>3.89020</td>\n",
       "      <td>22344145.08</td>\n",
       "    </tr>\n",
       "    <tr>\n",
       "      <th>2</th>\n",
       "      <td>19980106</td>\n",
       "      <td>0</td>\n",
       "      <td>3.87561</td>\n",
       "      <td>4.98432</td>\n",
       "      <td>3.58628</td>\n",
       "      <td>4.60502</td>\n",
       "      <td>63150252.55</td>\n",
       "    </tr>\n",
       "    <tr>\n",
       "      <th>3</th>\n",
       "      <td>19980107</td>\n",
       "      <td>0</td>\n",
       "      <td>4.57341</td>\n",
       "      <td>4.68040</td>\n",
       "      <td>4.20871</td>\n",
       "      <td>4.24032</td>\n",
       "      <td>36978255.52</td>\n",
       "    </tr>\n",
       "    <tr>\n",
       "      <th>4</th>\n",
       "      <td>19980108</td>\n",
       "      <td>0</td>\n",
       "      <td>4.24032</td>\n",
       "      <td>4.52965</td>\n",
       "      <td>4.11875</td>\n",
       "      <td>4.39107</td>\n",
       "      <td>27687622.95</td>\n",
       "    </tr>\n",
       "  </tbody>\n",
       "</table>\n",
       "</div>"
      ],
      "text/plain": [
       "       date  time     open     high      low    close       volume\n",
       "0  19980102     0  3.31397  3.95098  3.28236  3.95098  24947201.10\n",
       "1  19980105     0  4.01177  4.02635  3.69325  3.89020  22344145.08\n",
       "2  19980106     0  3.87561  4.98432  3.58628  4.60502  63150252.55\n",
       "3  19980107     0  4.57341  4.68040  4.20871  4.24032  36978255.52\n",
       "4  19980108     0  4.24032  4.52965  4.11875  4.39107  27687622.95"
      ]
     },
     "execution_count": 5,
     "metadata": {},
     "output_type": "execute_result"
    }
   ],
   "source": [
    "aapl.head()"
   ]
  },
  {
   "cell_type": "markdown",
   "metadata": {},
   "source": [
    "#### Notes: \n",
    "\n",
    "a DataFrame's index is used for a number of things, including:\n",
    "\n",
    "- retrieving particular rows of a DataFrame\n",
    "- joining DataFrames together\n",
    "\n",
    "By default, a DataFrame will be given an incremental integer index that starts at 0. You can easily set the index to the vaules of one (or more) of the DataFrame's columns with the *set_index* method. User can select whether to remove the column after passing as an index via the *drop* argument. \n",
    "\n",
    "A lot of DataFrame methods will return a new DataFrame. User can select for this to happen to the existing DataFrame instead by passing True to the *inplace* argument when it is avalable. Note that this does not actually guarantee a more efficient process from a memory standpoint. It is more a matter of preference or code style. "
   ]
  },
  {
   "cell_type": "code",
   "execution_count": 6,
   "metadata": {},
   "outputs": [],
   "source": [
    "aapl.set_index('date', drop=True, inplace=True)"
   ]
  },
  {
   "cell_type": "code",
   "execution_count": 7,
   "metadata": {},
   "outputs": [
    {
     "data": {
      "text/html": [
       "<div>\n",
       "<style scoped>\n",
       "    .dataframe tbody tr th:only-of-type {\n",
       "        vertical-align: middle;\n",
       "    }\n",
       "\n",
       "    .dataframe tbody tr th {\n",
       "        vertical-align: top;\n",
       "    }\n",
       "\n",
       "    .dataframe thead th {\n",
       "        text-align: right;\n",
       "    }\n",
       "</style>\n",
       "<table border=\"1\" class=\"dataframe\">\n",
       "  <thead>\n",
       "    <tr style=\"text-align: right;\">\n",
       "      <th></th>\n",
       "      <th>time</th>\n",
       "      <th>open</th>\n",
       "      <th>high</th>\n",
       "      <th>low</th>\n",
       "      <th>close</th>\n",
       "      <th>volume</th>\n",
       "    </tr>\n",
       "    <tr>\n",
       "      <th>date</th>\n",
       "      <th></th>\n",
       "      <th></th>\n",
       "      <th></th>\n",
       "      <th></th>\n",
       "      <th></th>\n",
       "      <th></th>\n",
       "    </tr>\n",
       "  </thead>\n",
       "  <tbody>\n",
       "    <tr>\n",
       "      <th>19980102</th>\n",
       "      <td>0</td>\n",
       "      <td>3.31397</td>\n",
       "      <td>3.95098</td>\n",
       "      <td>3.28236</td>\n",
       "      <td>3.95098</td>\n",
       "      <td>24947201.10</td>\n",
       "    </tr>\n",
       "    <tr>\n",
       "      <th>19980105</th>\n",
       "      <td>0</td>\n",
       "      <td>4.01177</td>\n",
       "      <td>4.02635</td>\n",
       "      <td>3.69325</td>\n",
       "      <td>3.89020</td>\n",
       "      <td>22344145.08</td>\n",
       "    </tr>\n",
       "    <tr>\n",
       "      <th>19980106</th>\n",
       "      <td>0</td>\n",
       "      <td>3.87561</td>\n",
       "      <td>4.98432</td>\n",
       "      <td>3.58628</td>\n",
       "      <td>4.60502</td>\n",
       "      <td>63150252.55</td>\n",
       "    </tr>\n",
       "    <tr>\n",
       "      <th>19980107</th>\n",
       "      <td>0</td>\n",
       "      <td>4.57341</td>\n",
       "      <td>4.68040</td>\n",
       "      <td>4.20871</td>\n",
       "      <td>4.24032</td>\n",
       "      <td>36978255.52</td>\n",
       "    </tr>\n",
       "    <tr>\n",
       "      <th>19980108</th>\n",
       "      <td>0</td>\n",
       "      <td>4.24032</td>\n",
       "      <td>4.52965</td>\n",
       "      <td>4.11875</td>\n",
       "      <td>4.39107</td>\n",
       "      <td>27687622.95</td>\n",
       "    </tr>\n",
       "  </tbody>\n",
       "</table>\n",
       "</div>"
      ],
      "text/plain": [
       "          time     open     high      low    close       volume\n",
       "date                                                           \n",
       "19980102     0  3.31397  3.95098  3.28236  3.95098  24947201.10\n",
       "19980105     0  4.01177  4.02635  3.69325  3.89020  22344145.08\n",
       "19980106     0  3.87561  4.98432  3.58628  4.60502  63150252.55\n",
       "19980107     0  4.57341  4.68040  4.20871  4.24032  36978255.52\n",
       "19980108     0  4.24032  4.52965  4.11875  4.39107  27687622.95"
      ]
     },
     "execution_count": 7,
     "metadata": {},
     "output_type": "execute_result"
    }
   ],
   "source": [
    "aapl.head()"
   ]
  },
  {
   "cell_type": "code",
   "execution_count": 8,
   "metadata": {},
   "outputs": [
    {
     "data": {
      "text/plain": [
       "0"
      ]
     },
     "execution_count": 8,
     "metadata": {},
     "output_type": "execute_result"
    }
   ],
   "source": [
    "aapl.time.sum()"
   ]
  },
  {
   "cell_type": "code",
   "execution_count": 9,
   "metadata": {},
   "outputs": [
    {
     "data": {
      "text/plain": [
       "0    3926\n",
       "Name: time, dtype: int64"
      ]
     },
     "execution_count": 9,
     "metadata": {},
     "output_type": "execute_result"
    }
   ],
   "source": [
    "aapl.time.value_counts()"
   ]
  },
  {
   "cell_type": "markdown",
   "metadata": {},
   "source": [
    "*0* is the value\n",
    "\n",
    "*3926* is the number of rows with that value\n",
    "\n",
    "'Name' is column name\n",
    "\n",
    "dtype tells you the type of data, in this case it's an integer 64 bit"
   ]
  },
  {
   "cell_type": "code",
   "execution_count": 11,
   "metadata": {},
   "outputs": [
    {
     "data": {
      "text/plain": [
       "3926"
      ]
     },
     "execution_count": 11,
     "metadata": {},
     "output_type": "execute_result"
    }
   ],
   "source": [
    "len(aapl)"
   ]
  },
  {
   "cell_type": "code",
   "execution_count": 12,
   "metadata": {},
   "outputs": [
    {
     "data": {
      "text/plain": [
       "(3926, 6)"
      ]
     },
     "execution_count": 12,
     "metadata": {},
     "output_type": "execute_result"
    }
   ],
   "source": [
    "aapl.shape #returns the number of rows/columns"
   ]
  },
  {
   "cell_type": "markdown",
   "metadata": {},
   "source": [
    "#### Notes:\n",
    "    \n",
    "You can drop columns from a DataFrame using the *drop* method. In this case, our time column is not useful, so we will drop it. Passisng *axis=1* is necessary so that the function knows to search column labels, and not row labels, for the value 'time'. (*drop* can also be used to remove rows, and the function sets a default value of 0 for *axis*)"
   ]
  },
  {
   "cell_type": "code",
   "execution_count": 9,
   "metadata": {},
   "outputs": [],
   "source": [
    "aapl.drop('time', axis=1, inplace=True)"
   ]
  },
  {
   "cell_type": "code",
   "execution_count": 10,
   "metadata": {},
   "outputs": [
    {
     "data": {
      "text/html": [
       "<div>\n",
       "<table border=\"1\" class=\"dataframe\">\n",
       "  <thead>\n",
       "    <tr style=\"text-align: right;\">\n",
       "      <th></th>\n",
       "      <th>open</th>\n",
       "      <th>high</th>\n",
       "      <th>low</th>\n",
       "      <th>close</th>\n",
       "      <th>volume</th>\n",
       "    </tr>\n",
       "    <tr>\n",
       "      <th>date</th>\n",
       "      <th></th>\n",
       "      <th></th>\n",
       "      <th></th>\n",
       "      <th></th>\n",
       "      <th></th>\n",
       "    </tr>\n",
       "  </thead>\n",
       "  <tbody>\n",
       "    <tr>\n",
       "      <th>19980102</th>\n",
       "      <td>3.31397</td>\n",
       "      <td>3.95098</td>\n",
       "      <td>3.28236</td>\n",
       "      <td>3.95098</td>\n",
       "      <td>24947201.10</td>\n",
       "    </tr>\n",
       "    <tr>\n",
       "      <th>19980105</th>\n",
       "      <td>4.01177</td>\n",
       "      <td>4.02635</td>\n",
       "      <td>3.69325</td>\n",
       "      <td>3.89020</td>\n",
       "      <td>22344145.08</td>\n",
       "    </tr>\n",
       "    <tr>\n",
       "      <th>19980106</th>\n",
       "      <td>3.87561</td>\n",
       "      <td>4.98432</td>\n",
       "      <td>3.58628</td>\n",
       "      <td>4.60502</td>\n",
       "      <td>63150252.55</td>\n",
       "    </tr>\n",
       "    <tr>\n",
       "      <th>19980107</th>\n",
       "      <td>4.57341</td>\n",
       "      <td>4.68040</td>\n",
       "      <td>4.20871</td>\n",
       "      <td>4.24032</td>\n",
       "      <td>36978255.52</td>\n",
       "    </tr>\n",
       "    <tr>\n",
       "      <th>19980108</th>\n",
       "      <td>4.24032</td>\n",
       "      <td>4.52965</td>\n",
       "      <td>4.11875</td>\n",
       "      <td>4.39107</td>\n",
       "      <td>27687622.95</td>\n",
       "    </tr>\n",
       "  </tbody>\n",
       "</table>\n",
       "</div>"
      ],
      "text/plain": [
       "             open     high      low    close       volume\n",
       "date                                                     \n",
       "19980102  3.31397  3.95098  3.28236  3.95098  24947201.10\n",
       "19980105  4.01177  4.02635  3.69325  3.89020  22344145.08\n",
       "19980106  3.87561  4.98432  3.58628  4.60502  63150252.55\n",
       "19980107  4.57341  4.68040  4.20871  4.24032  36978255.52\n",
       "19980108  4.24032  4.52965  4.11875  4.39107  27687622.95"
      ]
     },
     "execution_count": 10,
     "metadata": {},
     "output_type": "execute_result"
    }
   ],
   "source": [
    "aapl.head()"
   ]
  },
  {
   "cell_type": "markdown",
   "metadata": {},
   "source": [
    "#### Notes:\n",
    "    \n",
    "DataFrames include a number of methods for describing their data. \n",
    "\n",
    "The function *max* returns the maximum for each column in the DataFrame. The function *describe* returns a count of non-null rows, as well as the mean, standard deviation, min, quartiles and max for each column of the DataFrame. "
   ]
  },
  {
   "cell_type": "code",
   "execution_count": 11,
   "metadata": {},
   "outputs": [
    {
     "data": {
      "text/plain": [
       "open      6.858080e+02\n",
       "high      6.886600e+02\n",
       "low       6.832870e+02\n",
       "close     6.856620e+02\n",
       "volume    2.339738e+08\n",
       "dtype: float64"
      ]
     },
     "execution_count": 11,
     "metadata": {},
     "output_type": "execute_result"
    }
   ],
   "source": [
    "aapl.max()"
   ]
  },
  {
   "cell_type": "code",
   "execution_count": 12,
   "metadata": {},
   "outputs": [
    {
     "data": {
      "text/html": [
       "<div>\n",
       "<table border=\"1\" class=\"dataframe\">\n",
       "  <thead>\n",
       "    <tr style=\"text-align: right;\">\n",
       "      <th></th>\n",
       "      <th>open</th>\n",
       "      <th>high</th>\n",
       "      <th>low</th>\n",
       "      <th>close</th>\n",
       "      <th>volume</th>\n",
       "    </tr>\n",
       "  </thead>\n",
       "  <tbody>\n",
       "    <tr>\n",
       "      <th>count</th>\n",
       "      <td>3926.000000</td>\n",
       "      <td>3926.000000</td>\n",
       "      <td>3926.000000</td>\n",
       "      <td>3926.000000</td>\n",
       "      <td>3.926000e+03</td>\n",
       "    </tr>\n",
       "    <tr>\n",
       "      <th>mean</th>\n",
       "      <td>131.046735</td>\n",
       "      <td>132.547087</td>\n",
       "      <td>129.276820</td>\n",
       "      <td>130.936396</td>\n",
       "      <td>1.996621e+07</td>\n",
       "    </tr>\n",
       "    <tr>\n",
       "      <th>std</th>\n",
       "      <td>165.720993</td>\n",
       "      <td>167.175882</td>\n",
       "      <td>163.849101</td>\n",
       "      <td>165.519449</td>\n",
       "      <td>1.395386e+07</td>\n",
       "    </tr>\n",
       "    <tr>\n",
       "      <th>min</th>\n",
       "      <td>3.313970</td>\n",
       "      <td>3.950980</td>\n",
       "      <td>3.282360</td>\n",
       "      <td>3.890200</td>\n",
       "      <td>1.437792e+06</td>\n",
       "    </tr>\n",
       "    <tr>\n",
       "      <th>25%</th>\n",
       "      <td>10.879200</td>\n",
       "      <td>11.127125</td>\n",
       "      <td>10.645725</td>\n",
       "      <td>10.892600</td>\n",
       "      <td>1.067201e+07</td>\n",
       "    </tr>\n",
       "    <tr>\n",
       "      <th>50%</th>\n",
       "      <td>52.551700</td>\n",
       "      <td>53.052600</td>\n",
       "      <td>51.491650</td>\n",
       "      <td>52.308600</td>\n",
       "      <td>1.581984e+07</td>\n",
       "    </tr>\n",
       "    <tr>\n",
       "      <th>75%</th>\n",
       "      <td>184.108000</td>\n",
       "      <td>185.625500</td>\n",
       "      <td>180.998750</td>\n",
       "      <td>184.118500</td>\n",
       "      <td>2.529142e+07</td>\n",
       "    </tr>\n",
       "    <tr>\n",
       "      <th>max</th>\n",
       "      <td>685.808000</td>\n",
       "      <td>688.660000</td>\n",
       "      <td>683.287000</td>\n",
       "      <td>685.662000</td>\n",
       "      <td>2.339738e+08</td>\n",
       "    </tr>\n",
       "  </tbody>\n",
       "</table>\n",
       "</div>"
      ],
      "text/plain": [
       "              open         high          low        close        volume\n",
       "count  3926.000000  3926.000000  3926.000000  3926.000000  3.926000e+03\n",
       "mean    131.046735   132.547087   129.276820   130.936396  1.996621e+07\n",
       "std     165.720993   167.175882   163.849101   165.519449  1.395386e+07\n",
       "min       3.313970     3.950980     3.282360     3.890200  1.437792e+06\n",
       "25%      10.879200    11.127125    10.645725    10.892600  1.067201e+07\n",
       "50%      52.551700    53.052600    51.491650    52.308600  1.581984e+07\n",
       "75%     184.108000   185.625500   180.998750   184.118500  2.529142e+07\n",
       "max     685.808000   688.660000   683.287000   685.662000  2.339738e+08"
      ]
     },
     "execution_count": 12,
     "metadata": {},
     "output_type": "execute_result"
    }
   ],
   "source": [
    "aapl.describe()"
   ]
  },
  {
   "cell_type": "markdown",
   "metadata": {},
   "source": [
    "#### Notes:\n",
    "    \n",
    "Many DataFrame frame methods also work for the Series (DataFrame column)."
   ]
  },
  {
   "cell_type": "code",
   "execution_count": 13,
   "metadata": {},
   "outputs": [
    {
     "data": {
      "text/plain": [
       "685.66199999999992"
      ]
     },
     "execution_count": 13,
     "metadata": {},
     "output_type": "execute_result"
    }
   ],
   "source": [
    "aapl['close'].max()"
   ]
  },
  {
   "cell_type": "code",
   "execution_count": 14,
   "metadata": {},
   "outputs": [
    {
     "data": {
      "text/plain": [
       "count    3926.000000\n",
       "mean      130.936396\n",
       "std       165.519449\n",
       "min         3.890200\n",
       "25%        10.892600\n",
       "50%        52.308600\n",
       "75%       184.118500\n",
       "max       685.662000\n",
       "Name: close, dtype: float64"
      ]
     },
     "execution_count": 14,
     "metadata": {},
     "output_type": "execute_result"
    }
   ],
   "source": [
    "aapl['close'].describe()"
   ]
  },
  {
   "cell_type": "markdown",
   "metadata": {},
   "source": [
    "#### Notes:\n",
    "\n",
    "The simplest way to call a DataFrame's column is, if we have an example DataFrame named 'df', with a column 'col':\n",
    "\n",
    "    df['col']\n",
    "\n",
    "A DataFrame df's column col can also be called by:\n",
    "    \n",
    "    df.col\n",
    "\n",
    "Additionally, you can use the bracket syntax to create new columns:\n",
    "    \n",
    "    df['new_col'] = some_values\n",
    "\n",
    "You can access more than one column at a time by using double brackets:\n",
    "\n",
    "    df[['col1', 'col2']]"
   ]
  },
  {
   "cell_type": "code",
   "execution_count": 15,
   "metadata": {},
   "outputs": [],
   "source": [
    "open_close_avg = aapl[['open', 'close']].mean(axis=1)"
   ]
  },
  {
   "cell_type": "code",
   "execution_count": 16,
   "metadata": {
    "scrolled": true
   },
   "outputs": [
    {
     "data": {
      "text/plain": [
       "date\n",
       "19980102    3.632475\n",
       "19980105    3.950985\n",
       "19980106    4.240315\n",
       "19980107    4.406865\n",
       "19980108    4.315695\n",
       "dtype: float64"
      ]
     },
     "execution_count": 16,
     "metadata": {},
     "output_type": "execute_result"
    }
   ],
   "source": [
    "open_close_avg.head()"
   ]
  },
  {
   "cell_type": "markdown",
   "metadata": {},
   "source": [
    "#### Notes:\n",
    "    \n",
    "Let's add a daily return column to our aapl DataFrame. \n",
    "\n",
    "First we'll need the difference from one day to the next, which we'll calculate using the *shift* method. \n",
    "\n",
    "Next we'll divide this difference by the previous day's closing price. "
   ]
  },
  {
   "cell_type": "code",
   "execution_count": null,
   "metadata": {},
   "outputs": [],
   "source": [
    "aapl.close.head()"
   ]
  },
  {
   "cell_type": "code",
   "execution_count": null,
   "metadata": {},
   "outputs": [],
   "source": [
    "aapl.close.shift(1).head()"
   ]
  },
  {
   "cell_type": "code",
   "execution_count": null,
   "metadata": {},
   "outputs": [],
   "source": [
    "aapl.loc[19980102, \"close\"]"
   ]
  },
  {
   "cell_type": "code",
   "execution_count": null,
   "metadata": {},
   "outputs": [],
   "source": [
    "aapl.loc[19980105, \"close\"]"
   ]
  },
  {
   "cell_type": "code",
   "execution_count": null,
   "metadata": {},
   "outputs": [],
   "source": [
    "aapl.loc[19980105, \"close\"] - aapl.loc[19980102, \"close\"]"
   ]
  },
  {
   "cell_type": "code",
   "execution_count": null,
   "metadata": {},
   "outputs": [],
   "source": [
    "aapl.loc[19980105, \"close\"] - aapl.shift(1).loc[19980105, \"close\"]"
   ]
  },
  {
   "cell_type": "markdown",
   "metadata": {},
   "source": [
    "`shift(n)`, as a method, is a fucntion of the DataFrame that pushes forward in the index every value within a given column by `n` . Whish has the effect of skipping back by `n`. This is very useful for time series analysis, day over percent change.\n",
    "\n",
    "`shift(n)`,it returns a new column of data containing the data from the column that was called on, pushed forward in the index by `n`. if `n` is negative then you would push backwards in the index by `-n`."
   ]
  },
  {
   "cell_type": "code",
   "execution_count": 17,
   "metadata": {
    "collapsed": true
   },
   "outputs": [],
   "source": [
    "aapl['delta'] = aapl['close'] - aapl['close'].shift(1)"
   ]
  },
  {
   "cell_type": "code",
   "execution_count": 18,
   "metadata": {},
   "outputs": [],
   "source": [
    "aapl['return'] = aapl['delta'] / aapl['close'].shift(1)"
   ]
  },
  {
   "cell_type": "code",
   "execution_count": 19,
   "metadata": {},
   "outputs": [
    {
     "data": {
      "text/html": [
       "<div>\n",
       "<table border=\"1\" class=\"dataframe\">\n",
       "  <thead>\n",
       "    <tr style=\"text-align: right;\">\n",
       "      <th></th>\n",
       "      <th>open</th>\n",
       "      <th>high</th>\n",
       "      <th>low</th>\n",
       "      <th>close</th>\n",
       "      <th>volume</th>\n",
       "      <th>delta</th>\n",
       "      <th>return</th>\n",
       "    </tr>\n",
       "    <tr>\n",
       "      <th>date</th>\n",
       "      <th></th>\n",
       "      <th></th>\n",
       "      <th></th>\n",
       "      <th></th>\n",
       "      <th></th>\n",
       "      <th></th>\n",
       "      <th></th>\n",
       "    </tr>\n",
       "  </thead>\n",
       "  <tbody>\n",
       "    <tr>\n",
       "      <th>19980102</th>\n",
       "      <td>3.31397</td>\n",
       "      <td>3.95098</td>\n",
       "      <td>3.28236</td>\n",
       "      <td>3.95098</td>\n",
       "      <td>24947201.10</td>\n",
       "      <td>NaN</td>\n",
       "      <td>NaN</td>\n",
       "    </tr>\n",
       "    <tr>\n",
       "      <th>19980105</th>\n",
       "      <td>4.01177</td>\n",
       "      <td>4.02635</td>\n",
       "      <td>3.69325</td>\n",
       "      <td>3.89020</td>\n",
       "      <td>22344145.08</td>\n",
       "      <td>-0.06078</td>\n",
       "      <td>-0.015384</td>\n",
       "    </tr>\n",
       "    <tr>\n",
       "      <th>19980106</th>\n",
       "      <td>3.87561</td>\n",
       "      <td>4.98432</td>\n",
       "      <td>3.58628</td>\n",
       "      <td>4.60502</td>\n",
       "      <td>63150252.55</td>\n",
       "      <td>0.71482</td>\n",
       "      <td>0.183749</td>\n",
       "    </tr>\n",
       "    <tr>\n",
       "      <th>19980107</th>\n",
       "      <td>4.57341</td>\n",
       "      <td>4.68040</td>\n",
       "      <td>4.20871</td>\n",
       "      <td>4.24032</td>\n",
       "      <td>36978255.52</td>\n",
       "      <td>-0.36470</td>\n",
       "      <td>-0.079196</td>\n",
       "    </tr>\n",
       "    <tr>\n",
       "      <th>19980108</th>\n",
       "      <td>4.24032</td>\n",
       "      <td>4.52965</td>\n",
       "      <td>4.11875</td>\n",
       "      <td>4.39107</td>\n",
       "      <td>27687622.95</td>\n",
       "      <td>0.15075</td>\n",
       "      <td>0.035552</td>\n",
       "    </tr>\n",
       "  </tbody>\n",
       "</table>\n",
       "</div>"
      ],
      "text/plain": [
       "             open     high      low    close       volume    delta    return\n",
       "date                                                                        \n",
       "19980102  3.31397  3.95098  3.28236  3.95098  24947201.10      NaN       NaN\n",
       "19980105  4.01177  4.02635  3.69325  3.89020  22344145.08 -0.06078 -0.015384\n",
       "19980106  3.87561  4.98432  3.58628  4.60502  63150252.55  0.71482  0.183749\n",
       "19980107  4.57341  4.68040  4.20871  4.24032  36978255.52 -0.36470 -0.079196\n",
       "19980108  4.24032  4.52965  4.11875  4.39107  27687622.95  0.15075  0.035552"
      ]
     },
     "execution_count": 19,
     "metadata": {},
     "output_type": "execute_result"
    }
   ],
   "source": [
    "aapl.head()"
   ]
  },
  {
   "cell_type": "code",
   "execution_count": 20,
   "metadata": {
    "collapsed": true
   },
   "outputs": [],
   "source": [
    "aapl.drop('delta', axis=1, inplace=True)"
   ]
  },
  {
   "cell_type": "code",
   "execution_count": 21,
   "metadata": {},
   "outputs": [
    {
     "data": {
      "text/html": [
       "<div>\n",
       "<table border=\"1\" class=\"dataframe\">\n",
       "  <thead>\n",
       "    <tr style=\"text-align: right;\">\n",
       "      <th></th>\n",
       "      <th>open</th>\n",
       "      <th>high</th>\n",
       "      <th>low</th>\n",
       "      <th>close</th>\n",
       "      <th>volume</th>\n",
       "      <th>return</th>\n",
       "    </tr>\n",
       "    <tr>\n",
       "      <th>date</th>\n",
       "      <th></th>\n",
       "      <th></th>\n",
       "      <th></th>\n",
       "      <th></th>\n",
       "      <th></th>\n",
       "      <th></th>\n",
       "    </tr>\n",
       "  </thead>\n",
       "  <tbody>\n",
       "    <tr>\n",
       "      <th>19980102</th>\n",
       "      <td>3.31397</td>\n",
       "      <td>3.95098</td>\n",
       "      <td>3.28236</td>\n",
       "      <td>3.95098</td>\n",
       "      <td>24947201.10</td>\n",
       "      <td>NaN</td>\n",
       "    </tr>\n",
       "    <tr>\n",
       "      <th>19980105</th>\n",
       "      <td>4.01177</td>\n",
       "      <td>4.02635</td>\n",
       "      <td>3.69325</td>\n",
       "      <td>3.89020</td>\n",
       "      <td>22344145.08</td>\n",
       "      <td>-0.015384</td>\n",
       "    </tr>\n",
       "    <tr>\n",
       "      <th>19980106</th>\n",
       "      <td>3.87561</td>\n",
       "      <td>4.98432</td>\n",
       "      <td>3.58628</td>\n",
       "      <td>4.60502</td>\n",
       "      <td>63150252.55</td>\n",
       "      <td>0.183749</td>\n",
       "    </tr>\n",
       "    <tr>\n",
       "      <th>19980107</th>\n",
       "      <td>4.57341</td>\n",
       "      <td>4.68040</td>\n",
       "      <td>4.20871</td>\n",
       "      <td>4.24032</td>\n",
       "      <td>36978255.52</td>\n",
       "      <td>-0.079196</td>\n",
       "    </tr>\n",
       "    <tr>\n",
       "      <th>19980108</th>\n",
       "      <td>4.24032</td>\n",
       "      <td>4.52965</td>\n",
       "      <td>4.11875</td>\n",
       "      <td>4.39107</td>\n",
       "      <td>27687622.95</td>\n",
       "      <td>0.035552</td>\n",
       "    </tr>\n",
       "  </tbody>\n",
       "</table>\n",
       "</div>"
      ],
      "text/plain": [
       "             open     high      low    close       volume    return\n",
       "date                                                               \n",
       "19980102  3.31397  3.95098  3.28236  3.95098  24947201.10       NaN\n",
       "19980105  4.01177  4.02635  3.69325  3.89020  22344145.08 -0.015384\n",
       "19980106  3.87561  4.98432  3.58628  4.60502  63150252.55  0.183749\n",
       "19980107  4.57341  4.68040  4.20871  4.24032  36978255.52 -0.079196\n",
       "19980108  4.24032  4.52965  4.11875  4.39107  27687622.95  0.035552"
      ]
     },
     "execution_count": 21,
     "metadata": {},
     "output_type": "execute_result"
    }
   ],
   "source": [
    "aapl.head()"
   ]
  },
  {
   "cell_type": "markdown",
   "metadata": {},
   "source": [
    "#### Notes:\n",
    "    \n",
    "Writing a DataFrame to a .csv file is as simple as calling the *to_csv* method and passing a file path. "
   ]
  },
  {
   "cell_type": "code",
   "execution_count": 22,
   "metadata": {},
   "outputs": [],
   "source": [
    "aapl.to_csv('../output/aapl_new.csv')"
   ]
  },
  {
   "cell_type": "code",
   "execution_count": null,
   "metadata": {
    "collapsed": true
   },
   "outputs": [],
   "source": []
  }
 ],
 "metadata": {
  "kernelspec": {
   "display_name": "Python 3",
   "language": "python",
   "name": "python3"
  },
  "language_info": {
   "codemirror_mode": {
    "name": "ipython",
    "version": 3
   },
   "file_extension": ".py",
   "mimetype": "text/x-python",
   "name": "python",
   "nbconvert_exporter": "python",
   "pygments_lexer": "ipython3",
   "version": "3.6.5"
  }
 },
 "nbformat": 4,
 "nbformat_minor": 1
}
